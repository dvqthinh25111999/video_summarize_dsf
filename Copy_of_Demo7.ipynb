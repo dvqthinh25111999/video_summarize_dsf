{
  "cells": [
    {
      "cell_type": "markdown",
      "metadata": {
        "id": "view-in-github",
        "colab_type": "text"
      },
      "source": [
        "<a href=\"https://colab.research.google.com/github/born99/video_summarize_dsf/blob/master/Copy_of_Demo7.ipynb\" target=\"_parent\"><img src=\"https://colab.research.google.com/assets/colab-badge.svg\" alt=\"Open In Colab\"/></a>"
      ]
    },
    {
      "cell_type": "code",
      "source": [
        "from google.colab import drive \n",
        "drive.mount('/content/drive')"
      ],
      "metadata": {
        "id": "yZodKGeARJvB",
        "colab": {
          "base_uri": "https://localhost:8080/"
        },
        "outputId": "4445f117-eaeb-41df-d582-bc9a06f710a7"
      },
      "execution_count": 1,
      "outputs": [
        {
          "output_type": "stream",
          "name": "stdout",
          "text": [
            "Drive already mounted at /content/drive; to attempt to forcibly remount, call drive.mount(\"/content/drive\", force_remount=True).\n"
          ]
        }
      ]
    },
    {
      "cell_type": "code",
      "source": [
        "!pwd\n",
        "import os\n",
        "os.chdir('/content/drive/My Drive/video_summarize_dsf')\n",
        "\n",
        "!pip install chainer\n",
        "!pip install torch\n",
        "!pip install scikit-video\n",
        "!pip install cupy-cuda111"
      ],
      "metadata": {
        "id": "fZk7rFMhXQ8S",
        "colab": {
          "base_uri": "https://localhost:8080/"
        },
        "outputId": "4905336a-a5cc-4108-c377-b8396d9391ab"
      },
      "execution_count": 2,
      "outputs": [
        {
          "output_type": "stream",
          "name": "stdout",
          "text": [
            "/content\n",
            "Requirement already satisfied: chainer in /usr/local/lib/python3.7/dist-packages (7.8.1)\n",
            "Requirement already satisfied: filelock in /usr/local/lib/python3.7/dist-packages (from chainer) (3.6.0)\n",
            "Requirement already satisfied: setuptools in /usr/local/lib/python3.7/dist-packages (from chainer) (57.4.0)\n",
            "Requirement already satisfied: protobuf>=3.0.0 in /usr/local/lib/python3.7/dist-packages (from chainer) (3.17.3)\n",
            "Requirement already satisfied: six>=1.9.0 in /usr/local/lib/python3.7/dist-packages (from chainer) (1.15.0)\n",
            "Requirement already satisfied: numpy>=1.9.0 in /usr/local/lib/python3.7/dist-packages (from chainer) (1.21.5)\n",
            "Requirement already satisfied: typing-extensions in /usr/local/lib/python3.7/dist-packages (from chainer) (3.10.0.2)\n",
            "Requirement already satisfied: torch in /usr/local/lib/python3.7/dist-packages (1.10.0+cu111)\n",
            "Requirement already satisfied: typing-extensions in /usr/local/lib/python3.7/dist-packages (from torch) (3.10.0.2)\n",
            "Requirement already satisfied: scikit-video in /usr/local/lib/python3.7/dist-packages (1.1.11)\n",
            "Requirement already satisfied: pillow in /usr/local/lib/python3.7/dist-packages (from scikit-video) (7.1.2)\n",
            "Requirement already satisfied: scipy in /usr/local/lib/python3.7/dist-packages (from scikit-video) (1.4.1)\n",
            "Requirement already satisfied: numpy in /usr/local/lib/python3.7/dist-packages (from scikit-video) (1.21.5)\n",
            "Requirement already satisfied: cupy-cuda111 in /usr/local/lib/python3.7/dist-packages (9.4.0)\n",
            "Requirement already satisfied: fastrlock>=0.5 in /usr/local/lib/python3.7/dist-packages (from cupy-cuda111) (0.8)\n",
            "Requirement already satisfied: numpy<1.24,>=1.17 in /usr/local/lib/python3.7/dist-packages (from cupy-cuda111) (1.21.5)\n"
          ]
        }
      ]
    },
    {
      "cell_type": "code",
      "execution_count": 3,
      "metadata": {
        "collapsed": true,
        "id": "5tlK2quePxn-",
        "colab": {
          "base_uri": "https://localhost:8080/"
        },
        "outputId": "8e6d159a-c4ff-4d2a-d4c8-bcfc1841c415"
      },
      "outputs": [
        {
          "output_type": "stream",
          "name": "stderr",
          "text": [
            "/usr/local/lib/python3.7/dist-packages/chainer/_environment_check.py:75: UserWarning: \n",
            "--------------------------------------------------------------------------------\n",
            "CuPy (cupy-cuda111) version 9.4.0 may not be compatible with this version of Chainer.\n",
            "Please consider installing the supported version by running:\n",
            "  $ pip install 'cupy-cuda111>=7.7.0,<8.0.0'\n",
            "\n",
            "See the following page for more details:\n",
            "  https://docs.cupy.dev/en/latest/install.html\n",
            "--------------------------------------------------------------------------------\n",
            "\n",
            "  requirement=requirement, help=help))\n"
          ]
        }
      ],
      "source": [
        "import numpy as np\n",
        "import os\n",
        "import json\n",
        "\n",
        "from func.nets import vid_enc, vid_enc_vgg19\n",
        "from chainer import serializers\n",
        "\n",
        "import sys\n",
        "sys.path.append('script/')\n",
        "from summarize import get_flabel\n",
        "from func.sampling.vsum import VSUM\n",
        "\n",
        "import chainer\n",
        "from chainer import configuration\n",
        "\n",
        "import torch"
      ]
    },
    {
      "cell_type": "code",
      "execution_count": 4,
      "metadata": {
        "collapsed": true,
        "id": "o77knqlVPxoH",
        "colab": {
          "base_uri": "https://localhost:8080/"
        },
        "outputId": "bc743f6c-1281-4c91-944f-720bdf8a192a"
      },
      "outputs": [
        {
          "output_type": "stream",
          "name": "stdout",
          "text": [
            "model: <class 'func.nets.vid_enc.Model'>\n",
            "model: <class 'func.nets.vid_enc.Model'>\n"
          ]
        }
      ],
      "source": [
        "# settings\n",
        "feat_type = 'smt_feat' # smt_feat (proposed) or vgg\n",
        "\n",
        "# load embedding model\n",
        "if feat_type == 'smt_feat':\n",
        "    model = vid_enc.Model()\n",
        "    print('model:', type(model))\n",
        "    serializers.load_npz('data/trained_model/model_par', model)\n",
        "    print('model:', type(model))\n",
        "elif feat_type == 'vgg':\n",
        "    model = vid_enc_vgg19.Model()\n",
        "    print('model:', type(model))\n",
        "else:\n",
        "    raise RuntimeError('[invalid feat_type] use smt_feat or vgg')"
      ]
    },
    {
      "cell_type": "code",
      "execution_count": 5,
      "metadata": {
        "id": "5rDPSGINPxoJ",
        "colab": {
          "base_uri": "https://localhost:8080/"
        },
        "outputId": "544d4e42-9d55-4c8b-c18a-9622f4d57b7e"
      },
      "outputs": [
        {
          "output_type": "stream",
          "name": "stdout",
          "text": [
            "save to:  results/summe/smt_feat/\n"
          ]
        }
      ],
      "source": [
        "# prepair output dir\n",
        "d_name = 'summe'\n",
        "dataset_root = 'data/{}/'.format(d_name)\n",
        "out_dir = 'results/{:}/{:}/'.format(d_name, feat_type)\n",
        "print('save to: ', out_dir)\n",
        "\n",
        "if not os.path.exists(out_dir):\n",
        "    os.makedirs(out_dir)"
      ]
    },
    {
      "cell_type": "code",
      "execution_count": 6,
      "metadata": {
        "id": "C2X9nj-HPxoL",
        "colab": {
          "base_uri": "https://localhost:8080/"
        },
        "outputId": "698961f1-bd9a-45fb-f513-d8818cb75163"
      },
      "outputs": [
        {
          "output_type": "stream",
          "name": "stdout",
          "text": [
            "Video list:\n",
            "- Cooking\n"
          ]
        }
      ],
      "source": [
        "# load dataset metadata\n",
        "dataset = json.load(open(dataset_root + 'dataset.json'))\n",
        "video_id = [d['videoID'] for d in dataset]\n",
        "\n",
        "print('Video list:')\n",
        "for vi in video_id:\n",
        "    print('-', vi)"
      ]
    },
    {
      "cell_type": "code",
      "execution_count": 7,
      "metadata": {
        "id": "Oe7lL2bvPxoM",
        "colab": {
          "base_uri": "https://localhost:8080/"
        },
        "outputId": "e1b90dd7-9505-4449-dd11-f9ef8772e146"
      },
      "outputs": [
        {
          "output_type": "stream",
          "name": "stdout",
          "text": [
            "ロードした動画のID: Cooking\n",
            "budget: 2\n",
            "feat: <class 'numpy.ndarray'>\n",
            "label:  [[0.]\n",
            " [0.]\n",
            " [0.]\n",
            " ...\n",
            " [0.]\n",
            " [0.]\n",
            " [0.]]\n"
          ]
        }
      ],
      "source": [
        "# summarize video\n",
        "v_id = 'Cooking'\n",
        "\n",
        "with configuration.using_config('train', False):\n",
        "    with chainer.no_backprop_mode():\n",
        "        vsum = VSUM(v_id, model, dataset=d_name, seg_l=5)\n",
        "\n",
        "_, frames, _ = vsum.summarizeRep(seg_l=5, weights=[1.0, 0.0])\n",
        "\n",
        "# get 0/1 label for each frame\n",
        "fps = vsum.dataset.data['fps']\n",
        "fnum = vsum.dataset.data['fnum']\n",
        "label = get_flabel(frames, fnum, fps, seg_l=5)\n",
        "print('label: ',label)"
      ]
    },
    {
      "cell_type": "code",
      "source": [
        "!pwd\n",
        "!python script/summarize.py\n",
        "!python script/evaluate.py results/summe/smt_feat"
      ],
      "metadata": {
        "id": "a0HJUvEYtaqZ",
        "colab": {
          "base_uri": "https://localhost:8080/"
        },
        "outputId": "5330033d-4c9b-4dde-f4b6-d4e56e1f2690"
      },
      "execution_count": 8,
      "outputs": [
        {
          "output_type": "stream",
          "name": "stdout",
          "text": [
            "/content/drive/MyDrive/video_summarize_dsf\n",
            "INFO:numexpr.utils:NumExpr defaulting to 2 threads.\n",
            "/usr/local/lib/python3.7/dist-packages/chainer/_environment_check.py:75: UserWarning: \n",
            "--------------------------------------------------------------------------------\n",
            "CuPy (cupy-cuda111) version 9.4.0 may not be compatible with this version of Chainer.\n",
            "Please consider installing the supported version by running:\n",
            "  $ pip install 'cupy-cuda111>=7.7.0,<8.0.0'\n",
            "\n",
            "See the following page for more details:\n",
            "  https://docs.cupy.dev/en/latest/install.html\n",
            "--------------------------------------------------------------------------------\n",
            "\n",
            "  requirement=requirement, help=help))\n",
            "resultの保存先: results/summe/smt_feat/\n",
            "ロードした動画のID: Cooking\n",
            "budget: 2\n",
            "feat: <class 'numpy.ndarray'>\n",
            "frames:  [['000624.jpg', '000639.jpg', '000654.jpg', '000669.jpg', '000684.jpg'], ['001219.jpg', '001233.jpg', '001248.jpg', '001263.jpg', '001278.jpg']]\n",
            "fps:  14.854001108852339\n",
            "fnum:  1286\n",
            "label:  2\n",
            "res_base: results/summe/smt_feat/\n",
            "v_id:  Cooking\n",
            "gt_base: ./data/summe/GT\n",
            "Traceback (most recent call last):\n",
            "  File \"/usr/local/lib/python3.7/dist-packages/scipy/io/matlab/mio.py\", line 39, in _open_file\n",
            "    return open(file_like, mode), True\n",
            "FileNotFoundError: [Errno 2] No such file or directory: './data/summe/GT/Cooking.mat'\n",
            "\n",
            "During handling of the above exception, another exception occurred:\n",
            "\n",
            "Traceback (most recent call last):\n",
            "  File \"script/evaluate.py\", line 95, in <module>\n",
            "    res = eval_summary(dataset_name, res_base, gt_base)\n",
            "  File \"script/evaluate.py\", line 42, in eval_summary\n",
            "    gt_data = loadmat(gt_base + '/' + v_id + '.mat')\n",
            "  File \"/usr/local/lib/python3.7/dist-packages/scipy/io/matlab/mio.py\", line 216, in loadmat\n",
            "    with _open_file_context(file_name, appendmat) as f:\n",
            "  File \"/usr/lib/python3.7/contextlib.py\", line 112, in __enter__\n",
            "    return next(self.gen)\n",
            "  File \"/usr/local/lib/python3.7/dist-packages/scipy/io/matlab/mio.py\", line 19, in _open_file_context\n",
            "    f, opened = _open_file(file_like, appendmat, mode)\n",
            "  File \"/usr/local/lib/python3.7/dist-packages/scipy/io/matlab/mio.py\", line 45, in _open_file\n",
            "    return open(file_like, mode), True\n",
            "FileNotFoundError: [Errno 2] No such file or directory: './data/summe/GT/Cooking.mat'\n"
          ]
        }
      ]
    },
    {
      "cell_type": "code",
      "execution_count": 9,
      "metadata": {
        "id": "kxhFESejPxoN",
        "colab": {
          "base_uri": "https://localhost:8080/",
          "height": 1000
        },
        "outputId": "4da842f4-d262-46dc-dff8-ca130e0eaeff"
      },
      "outputs": [
        {
          "output_type": "stream",
          "name": "stdout",
          "text": [
            "video_data [[[[120 113  88]\n",
            "   [123 116  91]\n",
            "   [122 114  87]\n",
            "   ...\n",
            "   [ 31  13  21]\n",
            "   [ 35  13  14]\n",
            "   [ 36  14  15]]\n",
            "\n",
            "  [[123 116  91]\n",
            "   [123 116  91]\n",
            "   [122 114  87]\n",
            "   ...\n",
            "   [ 29  11  19]\n",
            "   [ 33  11  12]\n",
            "   [ 36  14  15]]\n",
            "\n",
            "  [[124 117  93]\n",
            "   [122 115  91]\n",
            "   [123 114  90]\n",
            "   ...\n",
            "   [ 28  14  15]\n",
            "   [ 30  14  11]\n",
            "   [ 32  16  13]]\n",
            "\n",
            "  ...\n",
            "\n",
            "  [[ 66  65  56]\n",
            "   [ 66  65  56]\n",
            "   [ 68  67  58]\n",
            "   ...\n",
            "   [ 20  30  77]\n",
            "   [ 22  31  84]\n",
            "   [ 25  34  87]]\n",
            "\n",
            "  [[ 65  65  51]\n",
            "   [ 67  67  53]\n",
            "   [ 69  69  55]\n",
            "   ...\n",
            "   [ 18  32  78]\n",
            "   [ 16  31  80]\n",
            "   [ 18  33  82]]\n",
            "\n",
            "  [[ 65  65  51]\n",
            "   [ 68  68  54]\n",
            "   [ 69  69  55]\n",
            "   ...\n",
            "   [ 20  34  80]\n",
            "   [ 17  32  81]\n",
            "   [ 16  31  80]]]\n",
            "\n",
            "\n",
            " [[[139 108 109]\n",
            "   [138 107 108]\n",
            "   [137 111 108]\n",
            "   ...\n",
            "   [ 22  10   5]\n",
            "   [ 20   9   1]\n",
            "   [ 23  12   4]]\n",
            "\n",
            "  [[139 108 109]\n",
            "   [138 107 108]\n",
            "   [137 111 108]\n",
            "   ...\n",
            "   [ 23  11   6]\n",
            "   [ 22  11   3]\n",
            "   [ 25  14   6]]\n",
            "\n",
            "  [[136 110 107]\n",
            "   [135 109 106]\n",
            "   [134 113 106]\n",
            "   ...\n",
            "   [ 24  12  10]\n",
            "   [ 24  14   9]\n",
            "   [ 29  19  14]]\n",
            "\n",
            "  ...\n",
            "\n",
            "  [[ 66  68  64]\n",
            "   [ 67  69  65]\n",
            "   [ 65  67  65]\n",
            "   ...\n",
            "   [ 49  71  98]\n",
            "   [ 49  71  98]\n",
            "   [ 51  73 100]]\n",
            "\n",
            "  [[ 63  65  63]\n",
            "   [ 65  67  65]\n",
            "   [ 65  67  67]\n",
            "   ...\n",
            "   [ 50  71 102]\n",
            "   [ 48  69 100]\n",
            "   [ 49  70 101]]\n",
            "\n",
            "  [[ 62  64  62]\n",
            "   [ 64  66  64]\n",
            "   [ 64  66  66]\n",
            "   ...\n",
            "   [ 50  71 102]\n",
            "   [ 48  69 100]\n",
            "   [ 48  69 100]]]\n",
            "\n",
            "\n",
            " [[[ 98 108  93]\n",
            "   [ 98 108  93]\n",
            "   [101 109 100]\n",
            "   ...\n",
            "   [ 10  15  30]\n",
            "   [  5  13  27]\n",
            "   [  6  14  28]]\n",
            "\n",
            "  [[ 99 109  94]\n",
            "   [ 99 109  94]\n",
            "   [102 110 101]\n",
            "   ...\n",
            "   [  8  13  28]\n",
            "   [  3  11  25]\n",
            "   [  4  12  26]]\n",
            "\n",
            "  [[103 111 100]\n",
            "   [103 111 100]\n",
            "   [105 112 108]\n",
            "   ...\n",
            "   [  9  12  29]\n",
            "   [  5   9  26]\n",
            "   [  6  10  27]]\n",
            "\n",
            "  ...\n",
            "\n",
            "  [[ 68  60  59]\n",
            "   [ 67  59  58]\n",
            "   [ 66  59  60]\n",
            "   ...\n",
            "   [ 34  50  85]\n",
            "   [ 35  50  85]\n",
            "   [ 33  48  83]]\n",
            "\n",
            "  [[ 64  57  56]\n",
            "   [ 60  53  52]\n",
            "   [ 61  57  57]\n",
            "   ...\n",
            "   [ 31  51  90]\n",
            "   [ 31  51  90]\n",
            "   [ 29  49  88]]\n",
            "\n",
            "  [[ 65  58  57]\n",
            "   [ 61  54  53]\n",
            "   [ 62  58  58]\n",
            "   ...\n",
            "   [ 31  51  90]\n",
            "   [ 31  51  90]\n",
            "   [ 29  49  88]]]\n",
            "\n",
            "\n",
            " ...\n",
            "\n",
            "\n",
            " [[[107 111  82]\n",
            "   [109 113  84]\n",
            "   [113 117  91]\n",
            "   ...\n",
            "   [ 27  15  21]\n",
            "   [ 27  15  21]\n",
            "   [ 27  15  21]]\n",
            "\n",
            "  [[108 112  83]\n",
            "   [110 114  85]\n",
            "   [114 118  92]\n",
            "   ...\n",
            "   [ 27  15  21]\n",
            "   [ 27  15  21]\n",
            "   [ 27  15  21]]\n",
            "\n",
            "  [[108 113  79]\n",
            "   [110 115  81]\n",
            "   [114 118  89]\n",
            "   ...\n",
            "   [ 23  15  20]\n",
            "   [ 23  15  20]\n",
            "   [ 23  15  20]]\n",
            "\n",
            "  ...\n",
            "\n",
            "  [[ 63  66  56]\n",
            "   [ 63  66  56]\n",
            "   [ 63  66  56]\n",
            "   ...\n",
            "   [ 28  58 104]\n",
            "   [ 28  58 104]\n",
            "   [ 29  59 105]]\n",
            "\n",
            "  [[ 64  67  58]\n",
            "   [ 64  67  58]\n",
            "   [ 64  67  58]\n",
            "   ...\n",
            "   [ 28  58 106]\n",
            "   [ 27  57 103]\n",
            "   [ 29  59 105]]\n",
            "\n",
            "  [[ 66  69  60]\n",
            "   [ 66  69  60]\n",
            "   [ 66  69  60]\n",
            "   ...\n",
            "   [ 26  56 104]\n",
            "   [ 26  56 102]\n",
            "   [ 28  58 104]]]\n",
            "\n",
            "\n",
            " [[[120 108  96]\n",
            "   [117 105  93]\n",
            "   [119 107  99]\n",
            "   ...\n",
            "   [ 19  16  33]\n",
            "   [ 23  19  40]\n",
            "   [ 25  21  42]]\n",
            "\n",
            "  [[123 111  99]\n",
            "   [120 108  96]\n",
            "   [122 110 102]\n",
            "   ...\n",
            "   [ 19  16  33]\n",
            "   [ 23  19  40]\n",
            "   [ 25  21  42]]\n",
            "\n",
            "  [[125 117 100]\n",
            "   [122 114  97]\n",
            "   [124 115 102]\n",
            "   ...\n",
            "   [ 20  18  27]\n",
            "   [ 23  20  33]\n",
            "   [ 25  22  35]]\n",
            "\n",
            "  ...\n",
            "\n",
            "  [[ 71  67  51]\n",
            "   [ 71  67  51]\n",
            "   [ 71  66  54]\n",
            "   ...\n",
            "   [ 39  69 105]\n",
            "   [ 39  69 105]\n",
            "   [ 39  69 105]]\n",
            "\n",
            "  [[ 76  67  54]\n",
            "   [ 76  67  54]\n",
            "   [ 76  67  58]\n",
            "   ...\n",
            "   [ 37  68 108]\n",
            "   [ 37  68 108]\n",
            "   [ 37  68 108]]\n",
            "\n",
            "  [[ 78  69  56]\n",
            "   [ 78  69  56]\n",
            "   [ 77  68  59]\n",
            "   ...\n",
            "   [ 38  69 109]\n",
            "   [ 38  69 109]\n",
            "   [ 38  69 109]]]\n",
            "\n",
            "\n",
            " [[[112 110  81]\n",
            "   [109 107  78]\n",
            "   [111 107  87]\n",
            "   ...\n",
            "   [ 17  15  24]\n",
            "   [ 18  15  28]\n",
            "   [ 18  15  28]]\n",
            "\n",
            "  [[115 113  84]\n",
            "   [112 110  81]\n",
            "   [114 110  90]\n",
            "   ...\n",
            "   [ 17  15  24]\n",
            "   [ 18  15  28]\n",
            "   [ 18  15  28]]\n",
            "\n",
            "  [[118 116  83]\n",
            "   [116 114  81]\n",
            "   [118 115  90]\n",
            "   ...\n",
            "   [ 17  16  20]\n",
            "   [ 18  16  25]\n",
            "   [ 18  16  25]]\n",
            "\n",
            "  ...\n",
            "\n",
            "  [[ 78  69  60]\n",
            "   [ 78  69  60]\n",
            "   [ 78  69  58]\n",
            "   ...\n",
            "   [ 27  69 105]\n",
            "   [ 26  72 109]\n",
            "   [ 27  73 110]]\n",
            "\n",
            "  [[ 78  69  60]\n",
            "   [ 78  69  60]\n",
            "   [ 78  69  58]\n",
            "   ...\n",
            "   [ 24  67 107]\n",
            "   [ 24  71 111]\n",
            "   [ 25  72 112]]\n",
            "\n",
            "  [[ 78  69  60]\n",
            "   [ 78  69  60]\n",
            "   [ 78  69  58]\n",
            "   ...\n",
            "   [ 23  66 106]\n",
            "   [ 23  70 110]\n",
            "   [ 25  72 112]]]]\n"
          ]
        },
        {
          "output_type": "error",
          "ename": "IndexError",
          "evalue": "ignored",
          "traceback": [
            "\u001b[0;31m---------------------------------------------------------------------------\u001b[0m",
            "\u001b[0;31mIndexError\u001b[0m                                Traceback (most recent call last)",
            "\u001b[0;32m<ipython-input-9-edc299e3e01a>\u001b[0m in \u001b[0;36m<module>\u001b[0;34m()\u001b[0m\n\u001b[1;32m      8\u001b[0m \u001b[0mprint\u001b[0m\u001b[0;34m(\u001b[0m\u001b[0;34m'video_data'\u001b[0m\u001b[0;34m,\u001b[0m \u001b[0mvideo_data\u001b[0m\u001b[0;34m)\u001b[0m\u001b[0;34m\u001b[0m\u001b[0;34m\u001b[0m\u001b[0m\n\u001b[1;32m      9\u001b[0m \u001b[0mvideo_data\u001b[0m\u001b[0;34m\u001b[0m\u001b[0;34m\u001b[0m\u001b[0m\n\u001b[0;32m---> 10\u001b[0;31m \u001b[0msum_vid\u001b[0m \u001b[0;34m=\u001b[0m \u001b[0mvideo_data\u001b[0m\u001b[0;34m[\u001b[0m\u001b[0mlabel\u001b[0m\u001b[0;34m.\u001b[0m\u001b[0mravel\u001b[0m\u001b[0;34m(\u001b[0m\u001b[0;34m)\u001b[0m\u001b[0;34m.\u001b[0m\u001b[0mastype\u001b[0m\u001b[0;34m(\u001b[0m\u001b[0mbool\u001b[0m\u001b[0;34m)\u001b[0m\u001b[0;34m,\u001b[0m \u001b[0;34m:\u001b[0m\u001b[0;34m,\u001b[0m\u001b[0;34m:\u001b[0m\u001b[0;34m]\u001b[0m\u001b[0;34m\u001b[0m\u001b[0;34m\u001b[0m\u001b[0m\n\u001b[0m\u001b[1;32m     11\u001b[0m \u001b[0;34m\u001b[0m\u001b[0m\n\u001b[1;32m     12\u001b[0m \u001b[0mprint\u001b[0m \u001b[0;34m(\u001b[0m\u001b[0;34m'writing video to'\u001b[0m\u001b[0;34m,\u001b[0m \u001b[0;34m'sum_%s.mp4'\u001b[0m\u001b[0;34m%\u001b[0m\u001b[0mv_id\u001b[0m\u001b[0;34m)\u001b[0m\u001b[0;34m\u001b[0m\u001b[0;34m\u001b[0m\u001b[0m\n",
            "\u001b[0;31mIndexError\u001b[0m: boolean index did not match indexed array along dimension 0; dimension is 51 but corresponding boolean dimension is 1286"
          ]
        }
      ],
      "source": [
        "# write summarized video\n",
        "from skvideo.io import vread, vwrite\n",
        "\n",
        "# video_path = 'video_summarize_dsf/data/summe/%s.webm' % v_id\n",
        "video_path = 'data/summe/abc.mp4'\n",
        "\n",
        "video_data = vread(video_path)\n",
        "print('video_data', video_data)\n",
        "video_data \n",
        "sum_vid = video_data[label.ravel().astype(bool), :,:,:]\n",
        "\n",
        "print ('writing video to', 'sum_%s.mp4'%v_id)\n",
        "vwrite('sum_%s.mp4'%v_id, sum_vid)"
      ]
    }
  ],
  "metadata": {
    "anaconda-cloud": {},
    "kernelspec": {
      "display_name": "Python 3",
      "name": "python3"
    },
    "language_info": {
      "name": "python"
    },
    "colab": {
      "name": "Copy_of_Demo7.ipynb",
      "provenance": [],
      "collapsed_sections": [],
      "include_colab_link": true
    },
    "accelerator": "GPU"
  },
  "nbformat": 4,
  "nbformat_minor": 0
}